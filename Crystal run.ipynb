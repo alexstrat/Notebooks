{
 "cells": [
  {
   "cell_type": "code",
   "execution_count": 34,
   "metadata": {
    "collapsed": true
   },
   "outputs": [],
   "source": [
    "import pandas as pd\n",
    "import seaborn as sns\n",
    "%matplotlib inline"
   ]
  },
  {
   "cell_type": "code",
   "execution_count": 16,
   "metadata": {
    "collapsed": false
   },
   "outputs": [],
   "source": [
    "URL = \"http://www.aso.fr/massevents/resultats/ajax.php?v=1456754529&course=ocr16&langue=fr&version=3&action=search&limiter[numpage]=%s\"\n",
    "df = pd.DataFrame()\n",
    "for i in xrange(1,90):\n",
    "    url = URL % i\n",
    "    df = pd.concat([df, pd.read_html(url)[0]])"
   ]
  },
  {
   "cell_type": "code",
   "execution_count": 21,
   "metadata": {
    "collapsed": false
   },
   "outputs": [],
   "source": [
    "df.columns = ['Classement', 'Temps', 'Dossard', 'Nom', 'Prenom', 'Photos', '-']"
   ]
  },
  {
   "cell_type": "code",
   "execution_count": 75,
   "metadata": {
    "collapsed": false
   },
   "outputs": [],
   "source": [
    "df.reset_index(inplace=True)"
   ]
  },
  {
   "cell_type": "code",
   "execution_count": 23,
   "metadata": {
    "collapsed": false
   },
   "outputs": [
    {
     "data": {
      "text/html": [
       "<div>\n",
       "<table border=\"1\" class=\"dataframe\">\n",
       "  <thead>\n",
       "    <tr style=\"text-align: right;\">\n",
       "      <th></th>\n",
       "      <th>Classement</th>\n",
       "      <th>Temps</th>\n",
       "      <th>Dossard</th>\n",
       "      <th>Nom</th>\n",
       "      <th>Prenom</th>\n",
       "      <th>Photos</th>\n",
       "      <th>-</th>\n",
       "    </tr>\n",
       "  </thead>\n",
       "  <tbody>\n",
       "    <tr>\n",
       "      <th>13</th>\n",
       "      <td>2964</td>\n",
       "      <td>01:00:35</td>\n",
       "      <td>15102</td>\n",
       "      <td>CHAMI</td>\n",
       "      <td>Marah</td>\n",
       "      <td>NaN</td>\n",
       "      <td>Mon rÃ©sultat en dÃ©tails</td>\n",
       "    </tr>\n",
       "  </tbody>\n",
       "</table>\n",
       "</div>"
      ],
      "text/plain": [
       "    Classement     Temps  Dossard    Nom Prenom  Photos  \\\n",
       "13        2964  01:00:35    15102  CHAMI  Marah     NaN   \n",
       "\n",
       "                            -  \n",
       "13  Mon rÃ©sultat en dÃ©tails  "
      ]
     },
     "execution_count": 23,
     "metadata": {},
     "output_type": "execute_result"
    }
   ],
   "source": [
    "df[df.Nom == 'CHAMI']"
   ]
  },
  {
   "cell_type": "code",
   "execution_count": 24,
   "metadata": {
    "collapsed": false
   },
   "outputs": [
    {
     "name": "stdout",
     "output_type": "stream",
     "text": [
      "<class 'pandas.core.frame.DataFrame'>\n",
      "Int64Index: 4450 entries, 0 to 49\n",
      "Data columns (total 7 columns):\n",
      "Classement    4450 non-null int64\n",
      "Temps         4450 non-null object\n",
      "Dossard       4450 non-null int64\n",
      "Nom           4450 non-null object\n",
      "Prenom        4450 non-null object\n",
      "Photos        0 non-null float64\n",
      "-             4450 non-null object\n",
      "dtypes: float64(1), int64(2), object(4)\n",
      "memory usage: 278.1+ KB\n"
     ]
    }
   ],
   "source": [
    "df.info()"
   ]
  },
  {
   "cell_type": "code",
   "execution_count": 37,
   "metadata": {
    "collapsed": false
   },
   "outputs": [],
   "source": [
    "from datetime import datetime, timedelta\n",
    "def parse_temps(temps):\n",
    "    t = datetime.strptime(temps,\"%H:%M:%S\")\n",
    "    return timedelta(hours=t.hour, minutes=t.minute, seconds=t.second)\n",
    "df['Temps_Parsed'] = df['Temps'].apply(parse_temps)\n",
    "df['Temps_Min'] = df['Temps_Parsed'].apply(lambda dt: dt.total_seconds()/60.)"
   ]
  },
  {
   "cell_type": "code",
   "execution_count": 77,
   "metadata": {
    "collapsed": false
   },
   "outputs": [
    {
     "data": {
      "text/plain": [
       "level_0                                 0\n",
       "index                                   0\n",
       "Classement                              1\n",
       "Temps                            00:33:01\n",
       "Dossard                                13\n",
       "Nom                              BENICHOU\n",
       "Prenom                             Thomas\n",
       "Photos                                NaN\n",
       "-               Mon rÃ©sultat en dÃ©tails\n",
       "Temps_Parsed              0 days 00:33:01\n",
       "Temps_Min                         33.0167\n",
       "Name: 0, dtype: object"
      ]
     },
     "execution_count": 77,
     "metadata": {},
     "output_type": "execute_result"
    }
   ],
   "source": [
    "df.ix[df.Temps_Parsed.argmin()]"
   ]
  },
  {
   "cell_type": "code",
   "execution_count": 31,
   "metadata": {
    "collapsed": false
   },
   "outputs": [
    {
     "data": {
      "text/plain": [
       "count                      4450\n",
       "mean     0 days 00:56:51.576404\n",
       "std      0 days 00:10:20.242720\n",
       "min             0 days 00:33:01\n",
       "25%             0 days 00:49:29\n",
       "50%             0 days 00:56:17\n",
       "75%             0 days 01:03:18\n",
       "max             0 days 02:40:05\n",
       "Name: Temps_Parsed, dtype: object"
      ]
     },
     "execution_count": 31,
     "metadata": {},
     "output_type": "execute_result"
    }
   ],
   "source": [
    "df['Temps_Parsed'].describe()"
   ]
  },
  {
   "cell_type": "code",
   "execution_count": 42,
   "metadata": {
    "collapsed": false
   },
   "outputs": [
    {
     "data": {
      "text/plain": [
       "<matplotlib.axes._subplots.AxesSubplot at 0x1196e7490>"
      ]
     },
     "execution_count": 42,
     "metadata": {},
     "output_type": "execute_result"
    },
    {
     "data": {
      "image/png": "[encoded data removed]",
      "text/plain": [
       "<matplotlib.figure.Figure at 0x11967e710>"
      ]
     },
     "metadata": {},
     "output_type": "display_data"
    }
   ],
   "source": [
    "df['Temps_Min'].hist(bins=100, figsize=(12, 6))"
   ]
  },
  {
   "cell_type": "code",
   "execution_count": 47,
   "metadata": {
    "collapsed": false
   },
   "outputs": [
    {
     "data": {
      "text/plain": [
       "1517"
      ]
     },
     "execution_count": 47,
     "metadata": {},
     "output_type": "execute_result"
    }
   ],
   "source": [
    "len(df.Prenom.unique())"
   ]
  },
  {
   "cell_type": "code",
   "execution_count": 57,
   "metadata": {
    "collapsed": false
   },
   "outputs": [
    {
     "data": {
      "text/plain": [
       "Julien               57\n",
       "Nicolas             112\n",
       "Olivier             156\n",
       "Laurent             198\n",
       "Guillaume           240\n",
       "Thomas              280\n",
       "Vincent             315\n",
       "Christophe          347\n",
       "Philippe            379\n",
       "Marie               411\n",
       "Francois            441\n",
       "Sebastien           471\n",
       "Frederic            500\n",
       "Alexandre           529\n",
       "David               558\n",
       "Romain              587\n",
       "Sophie              616\n",
       "Claire              645\n",
       "Delphine            673\n",
       "Benjamin            701\n",
       "Antoine             729\n",
       "Pierre              756\n",
       "Camille             783\n",
       "Mathieu             809\n",
       "Marion              834\n",
       "Stephane            858\n",
       "Bruno               881\n",
       "Eric                903\n",
       "Arnaud              925\n",
       "Julie               947\n",
       "                   ... \n",
       "Shadi              4421\n",
       "Anni               4422\n",
       "JOHAN              4423\n",
       "Arnauld            4424\n",
       "Nida               4425\n",
       "Gwenael            4426\n",
       "Jean-louis         4427\n",
       "ODILE              4428\n",
       "FERYEL             4429\n",
       "Gilbert            4430\n",
       "ADRIEN             4431\n",
       "Yasmina            4432\n",
       "Naomi              4433\n",
       "Violette           4434\n",
       "Marie-Charlotte    4435\n",
       "Doris              4436\n",
       "Gatien             4437\n",
       "Linda              4438\n",
       "Armelle            4439\n",
       "Leonie             4440\n",
       "Pierre-Andre       4441\n",
       "Moulle-Berteaux    4442\n",
       "Marie Charlotte    4443\n",
       "Joachim            4444\n",
       "Paula              4445\n",
       "Jannah             4446\n",
       "FLORIAN            4447\n",
       "John               4448\n",
       "Rozenn             4449\n",
       "Sandy              4450\n",
       "Name: Prenom, dtype: int64"
      ]
     },
     "execution_count": 57,
     "metadata": {},
     "output_type": "execute_result"
    }
   ],
   "source": [
    "df.Prenom.value_counts().sort_values(ascending=False).cumsum()"
   ]
  },
  {
   "cell_type": "code",
   "execution_count": null,
   "metadata": {
    "collapsed": true
   },
   "outputs": [],
   "source": [
    "df.Prenom.value_counts().sort_values"
   ]
  },
  {
   "cell_type": "code",
   "execution_count": null,
   "metadata": {
    "collapsed": true
   },
   "outputs": [],
   "source": [
    "df.Prenom.value_counts().sort_values"
   ]
  },
  {
   "cell_type": "code",
   "execution_count": null,
   "metadata": {
    "collapsed": true
   },
   "outputs": [],
   "source": []
  }
 ],
 "metadata": {
  "kernelspec": {
   "display_name": "Python 2",
   "language": "python",
   "name": "python2"
  },
  "language_info": {
   "codemirror_mode": {
    "name": "ipython",
    "version": 2
   },
   "file_extension": ".py",
   "mimetype": "text/x-python",
   "name": "python",
   "nbconvert_exporter": "python",
   "pygments_lexer": "ipython2",
   "version": "2.7.11"
  }
 },
 "nbformat": 4,
 "nbformat_minor": 0
}
