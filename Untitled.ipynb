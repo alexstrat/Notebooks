{
 "cells": [
  {
   "cell_type": "code",
   "execution_count": 1,
   "metadata": {
    "collapsed": true
   },
   "outputs": [],
   "source": [
    "%matplotlib inline\n",
    "import numpy as np\n",
    "import matplotlib.pyplot as plt\n",
    "from scipy import stats\n",
    "\n",
    "# use seaborn plotting style defaults\n",
    "import seaborn as sns; sns.set()"
   ]
  },
  {
   "cell_type": "code",
   "execution_count": 2,
   "metadata": {
    "collapsed": false,
    "scrolled": true
   },
   "outputs": [
    {
     "data": {
      "image/png": "[encoded data removed]",
      "text/plain": [
       "<matplotlib.figure.Figure at 0x10b3e5cd0>"
      ]
     },
     "metadata": {},
     "output_type": "display_data"
    }
   ],
   "source": [
    "np.random.seed(1)\n",
    "X = np.dot(np.random.random(size=(2, 2)), np.random.normal(size=(2, 200))).T\n",
    "plt.plot(X[:, 0], X[:, 1], 'o')\n",
    "plt.axis('equal');"
   ]
  },
  {
   "cell_type": "code",
   "execution_count": 4,
   "metadata": {
    "collapsed": true
   },
   "outputs": [],
   "source": [
    "from sklearn.decomposition import PCA"
   ]
  },
  {
   "cell_type": "code",
   "execution_count": 8,
   "metadata": {
    "collapsed": false
   },
   "outputs": [
    {
     "data": {
      "text/plain": [
       "PCA(copy=True, n_components=2, whiten=False)"
      ]
     },
     "execution_count": 8,
     "metadata": {},
     "output_type": "execute_result"
    }
   ],
   "source": [
    "pca = PCA(n_components=2)\n",
    "pca.fit(X)"
   ]
  },
  {
   "cell_type": "code",
   "execution_count": 11,
   "metadata": {
    "collapsed": false
   },
   "outputs": [
    {
     "data": {
      "text/plain": [
       "array([[ 0.94446029,  0.32862557],\n",
       "       [ 0.32862557, -0.94446029]])"
      ]
     },
     "execution_count": 11,
     "metadata": {},
     "output_type": "execute_result"
    }
   ],
   "source": [
    "pca.components_"
   ]
  },
  {
   "cell_type": "code",
   "execution_count": 14,
   "metadata": {
    "collapsed": false
   },
   "outputs": [
    {
     "name": "stdout",
     "output_type": "stream",
     "text": [
      "(200, 2)\n",
      "(200, 1)\n"
     ]
    }
   ],
   "source": [
    "clf = PCA(0.95) # keep 95% of variance\n",
    "X_trans = clf.fit_transform(X)\n",
    "print(X.shape)\n",
    "print(X_trans.shape)"
   ]
  },
  {
   "cell_type": "code",
   "execution_count": 16,
   "metadata": {
    "collapsed": false
   },
   "outputs": [
    {
     "data": {
      "text/plain": [
       "array([[ -6.76769235e-01],\n",
       "       [  1.07121393e+00],\n",
       "       [ -7.27912364e-01],\n",
       "       [ -2.30964136e+00],\n",
       "       [ -6.30052323e-01],\n",
       "       [ -1.02448887e+00],\n",
       "       [ -7.77183507e-01],\n",
       "       [  1.39656414e+00],\n",
       "       [  2.91049874e-01],\n",
       "       [ -1.88864221e+00],\n",
       "       [  7.11544293e-01],\n",
       "       [ -6.38884130e-01],\n",
       "       [ -5.48059617e-01],\n",
       "       [  2.19312436e-01],\n",
       "       [  3.87789490e-01],\n",
       "       [ -7.15219956e-01],\n",
       "       [  1.08373816e+00],\n",
       "       [  2.99917403e-01],\n",
       "       [  7.96849021e-01],\n",
       "       [  8.12568346e-01],\n",
       "       [  1.54018281e+00],\n",
       "       [  2.52920476e-01],\n",
       "       [ -6.26464454e-01],\n",
       "       [  1.61007571e+00],\n",
       "       [ -5.04240563e-01],\n",
       "       [ -5.53935753e-01],\n",
       "       [ -6.81911252e-01],\n",
       "       [  2.00157228e-02],\n",
       "       [ -1.13550833e-01],\n",
       "       [ -2.92286085e-02],\n",
       "       [  2.14393483e-01],\n",
       "       [  1.03406124e+00],\n",
       "       [ -3.88635004e-01],\n",
       "       [ -9.96727811e-01],\n",
       "       [ -1.39223653e+00],\n",
       "       [ -4.57043694e-01],\n",
       "       [ -6.81839901e-01],\n",
       "       [  9.05233246e-01],\n",
       "       [ -4.94316334e-01],\n",
       "       [ -6.22411280e-01],\n",
       "       [ -3.26088548e-01],\n",
       "       [ -4.52560386e-01],\n",
       "       [ -6.81840663e-01],\n",
       "       [  2.44832816e-01],\n",
       "       [  5.27149562e-01],\n",
       "       [  4.51448737e-01],\n",
       "       [  1.42864453e+00],\n",
       "       [ -8.05233004e-01],\n",
       "       [ -1.81049742e-01],\n",
       "       [ -3.49039347e-01],\n",
       "       [ -2.65803583e+00],\n",
       "       [  1.34272221e+00],\n",
       "       [  1.73026340e-01],\n",
       "       [ -6.13676729e-01],\n",
       "       [  1.89940741e+00],\n",
       "       [  7.93074429e-01],\n",
       "       [  4.17072486e-01],\n",
       "       [ -1.54913526e-01],\n",
       "       [ -2.44646603e-01],\n",
       "       [ -7.26337140e-01],\n",
       "       [  7.91592424e-01],\n",
       "       [ -4.39666794e-01],\n",
       "       [  2.66630687e-01],\n",
       "       [  8.77131636e-01],\n",
       "       [  6.37447634e-01],\n",
       "       [  7.72982393e-01],\n",
       "       [  1.04616382e+00],\n",
       "       [ -1.15209837e+00],\n",
       "       [  5.26661400e-02],\n",
       "       [  9.74296354e-01],\n",
       "       [  6.24348505e-01],\n",
       "       [  1.00475074e+00],\n",
       "       [ -5.89973268e-01],\n",
       "       [ -1.50344054e+00],\n",
       "       [ -1.27433349e+00],\n",
       "       [  1.25658172e+00],\n",
       "       [ -1.37852445e-01],\n",
       "       [  1.36126475e+00],\n",
       "       [ -7.27518820e-01],\n",
       "       [ -4.50501231e-01],\n",
       "       [  1.17577071e-01],\n",
       "       [  8.49638130e-01],\n",
       "       [  9.51657336e-02],\n",
       "       [  1.81175961e-01],\n",
       "       [ -2.81596080e-01],\n",
       "       [  2.56560634e-01],\n",
       "       [ -8.52804745e-01],\n",
       "       [  4.77688980e-01],\n",
       "       [  2.96471868e-01],\n",
       "       [ -1.68108524e-03],\n",
       "       [  2.05727542e-01],\n",
       "       [ -8.12610001e-01],\n",
       "       [  7.06157363e-02],\n",
       "       [ -2.31690062e-01],\n",
       "       [  1.59605923e-01],\n",
       "       [  5.98727081e-01],\n",
       "       [ -1.01944512e+00],\n",
       "       [  7.01462226e-01],\n",
       "       [  1.40420099e+00],\n",
       "       [ -6.94997907e-01],\n",
       "       [ -5.18636606e-01],\n",
       "       [ -4.83061626e-01],\n",
       "       [ -6.79198052e-01],\n",
       "       [  1.30170017e+00],\n",
       "       [  2.71805220e-01],\n",
       "       [ -9.47603686e-01],\n",
       "       [  3.49630397e-01],\n",
       "       [ -4.85113462e-01],\n",
       "       [  3.04715098e-01],\n",
       "       [  3.31839520e-01],\n",
       "       [  1.38578436e+00],\n",
       "       [ -8.84502948e-01],\n",
       "       [  2.47084475e+00],\n",
       "       [  9.56899804e-02],\n",
       "       [  4.64806358e-01],\n",
       "       [ -7.06669625e-01],\n",
       "       [ -1.54312708e-01],\n",
       "       [ -5.45819213e-01],\n",
       "       [ -1.46023727e-01],\n",
       "       [ -9.57253276e-01],\n",
       "       [  6.91815248e-01],\n",
       "       [  1.00443516e-01],\n",
       "       [ -2.77924488e-01],\n",
       "       [  1.20207491e+00],\n",
       "       [  6.04953108e-02],\n",
       "       [  1.03273685e+00],\n",
       "       [ -6.88215760e-01],\n",
       "       [  1.21050656e+00],\n",
       "       [  2.40052449e-01],\n",
       "       [  6.06855334e-01],\n",
       "       [ -1.29217575e+00],\n",
       "       [  1.03282074e-01],\n",
       "       [  1.41361475e+00],\n",
       "       [ -7.57783205e-01],\n",
       "       [ -1.41360423e+00],\n",
       "       [ -1.99564613e+00],\n",
       "       [ -1.66865955e+00],\n",
       "       [ -1.66032125e+00],\n",
       "       [ -4.24742508e-01],\n",
       "       [  9.26445715e-01],\n",
       "       [ -3.28504629e-02],\n",
       "       [  5.17521702e-01],\n",
       "       [  9.24887775e-02],\n",
       "       [  3.05962249e-02],\n",
       "       [ -1.30795754e-01],\n",
       "       [  7.74659629e-02],\n",
       "       [  4.20826569e-01],\n",
       "       [ -6.78334448e-01],\n",
       "       [  6.35104074e-01],\n",
       "       [ -2.72075594e-01],\n",
       "       [  2.26801066e-01],\n",
       "       [  1.45908094e+00],\n",
       "       [ -4.03275391e-01],\n",
       "       [ -4.88618199e-01],\n",
       "       [  3.77797862e-02],\n",
       "       [ -2.25514691e-01],\n",
       "       [ -3.73320407e-01],\n",
       "       [ -9.96559672e-01],\n",
       "       [ -6.68655132e-01],\n",
       "       [  3.09207055e-01],\n",
       "       [ -1.44746288e+00],\n",
       "       [  1.27674147e-01],\n",
       "       [ -1.95898129e-02],\n",
       "       [  4.68331172e-01],\n",
       "       [  7.59794861e-01],\n",
       "       [ -2.11566325e+00],\n",
       "       [  1.28843614e+00],\n",
       "       [ -5.24455206e-01],\n",
       "       [ -2.68082969e-01],\n",
       "       [ -4.06271559e-02],\n",
       "       [  1.63087335e+00],\n",
       "       [ -4.50273668e-01],\n",
       "       [  1.41736985e+00],\n",
       "       [  3.20579341e-01],\n",
       "       [  2.16095416e+00],\n",
       "       [ -7.55938440e-01],\n",
       "       [ -1.13147728e+00],\n",
       "       [  4.01022769e-01],\n",
       "       [  1.33261395e-01],\n",
       "       [  1.20765775e-01],\n",
       "       [ -1.03185993e+00],\n",
       "       [  1.29878689e-01],\n",
       "       [  4.08011754e-01],\n",
       "       [ -4.17084437e-01],\n",
       "       [  1.00930809e-01],\n",
       "       [ -7.22839507e-02],\n",
       "       [ -6.47903117e-01],\n",
       "       [ -4.74689466e-01],\n",
       "       [ -6.85499472e-01],\n",
       "       [  1.49366216e+00],\n",
       "       [  3.49297457e-01],\n",
       "       [  7.79713261e-01],\n",
       "       [ -5.67446775e-01],\n",
       "       [ -5.18831382e-02],\n",
       "       [ -1.25350822e+00],\n",
       "       [  8.53016941e-01],\n",
       "       [  2.61547685e-01],\n",
       "       [  2.02667441e+00],\n",
       "       [ -1.20688282e+00],\n",
       "       [  3.53816725e-01]])"
      ]
     },
     "execution_count": 16,
     "metadata": {},
     "output_type": "execute_result"
    }
   ],
   "source": [
    "X_trans"
   ]
  },
  {
   "cell_type": "code",
   "execution_count": 17,
   "metadata": {
    "collapsed": true
   },
   "outputs": [],
   "source": [
    "PCA?"
   ]
  },
  {
   "cell_type": "code",
   "execution_count": 19,
   "metadata": {
    "collapsed": false
   },
   "outputs": [
    {
     "data": {
      "image/png": "[encoded data removed]",
      "text/plain": [
       "<matplotlib.figure.Figure at 0x10bbab210>"
      ]
     },
     "metadata": {},
     "output_type": "display_data"
    }
   ],
   "source": [
    "sns.set()\n",
    "pca = PCA().fit(X)\n",
    "plt.plot(np.cumsum(pca.explained_variance_ratio_))\n",
    "plt.xlabel('number of components')\n",
    "plt.ylabel('cumulative explained variance');"
   ]
  },
  {
   "cell_type": "code",
   "execution_count": null,
   "metadata": {
    "collapsed": true
   },
   "outputs": [],
   "source": []
  }
 ],
 "metadata": {
  "kernelspec": {
   "display_name": "Python 2",
   "language": "python",
   "name": "python2"
  },
  "language_info": {
   "codemirror_mode": {
    "name": "ipython",
    "version": 2
   },
   "file_extension": ".py",
   "mimetype": "text/x-python",
   "name": "python",
   "nbconvert_exporter": "python",
   "pygments_lexer": "ipython2",
   "version": "2.7.11"
  }
 },
 "nbformat": 4,
 "nbformat_minor": 0
}
