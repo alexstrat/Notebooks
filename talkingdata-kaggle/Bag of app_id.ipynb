{
 "cells": [
  {
   "cell_type": "code",
   "execution_count": 1,
   "metadata": {
    "collapsed": false
   },
   "outputs": [],
   "source": [
    "# coding=utf8\n",
    "# Based on yibo's R script\n",
    "\n",
    "import pandas as pd\n",
    "import numpy as np\n",
    "import xgboost as xgb\n",
    "from scipy import sparse\n",
    "from sklearn.feature_extraction import FeatureHasher\n",
    "from sklearn.feature_extraction.text import CountVectorizer, TfidfVectorizer\n",
    "from sklearn.preprocessing import LabelEncoder, OneHotEncoder, scale\n",
    "from sklearn.decomposition import TruncatedSVD, SparsePCA\n",
    "from sklearn.cross_validation import train_test_split, cross_val_score\n",
    "from sklearn.feature_selection import SelectPercentile, f_classif, chi2\n",
    "from sklearn.linear_model import LogisticRegression, SGDClassifier\n",
    "from sklearn.ensemble import RandomForestClassifier, AdaBoostClassifier\n",
    "from sklearn.metrics import log_loss"
   ]
  },
  {
   "cell_type": "code",
   "execution_count": 2,
   "metadata": {
    "collapsed": true
   },
   "outputs": [],
   "source": [
    "NROWS = 10000"
   ]
  },
  {
   "cell_type": "code",
   "execution_count": 3,
   "metadata": {
    "collapsed": false
   },
   "outputs": [],
   "source": [
    "app_ev = pd.read_csv(\"./input/app_events.csv\",\n",
    "                     dtype={'device_id': np.str},\n",
    "                     nrows=NROWS\n",
    "                    )\n",
    "# concatenate app_ids for each event_id\n",
    "app_ev = app_ev.groupby(\"event_id\")[\"app_id\"].apply(\n",
    "    lambda x: \" \".join(set(\"app_id:\" + str(s) for s in x)))"
   ]
  },
  {
   "cell_type": "code",
   "execution_count": 4,
   "metadata": {
    "collapsed": false
   },
   "outputs": [
    {
     "data": {
      "text/plain": [
       "event_id\n",
       "2     app_id:8693964245073640147 app_id:434865995276...\n",
       "6     app_id:8693964245073640147 app_id:175704400052...\n",
       "7     app_id:8693964245073640147 app_id:-10140063694...\n",
       "9     app_id:8693964245073640147 app_id:-51663306906...\n",
       "16    app_id:628020936226491308 app_id:-737700447902...\n",
       "Name: app_id, dtype: object"
      ]
     },
     "execution_count": 4,
     "metadata": {},
     "output_type": "execute_result"
    }
   ],
   "source": [
    "app_ev.head()"
   ]
  },
  {
   "cell_type": "code",
   "execution_count": 5,
   "metadata": {
    "collapsed": false
   },
   "outputs": [],
   "source": [
    "events = pd.read_csv(\"./input/events.csv\",\n",
    "                    dtype={'device_id': np.str},\n",
    "                    nrows=NROWS\n",
    "                    )\n",
    "events[\"app_id\"] = events[\"event_id\"].map(app_ev)"
   ]
  },
  {
   "cell_type": "code",
   "execution_count": 6,
   "metadata": {
    "collapsed": false
   },
   "outputs": [
    {
     "data": {
      "text/html": [
       "<div>\n",
       "<table border=\"1\" class=\"dataframe\">\n",
       "  <thead>\n",
       "    <tr style=\"text-align: right;\">\n",
       "      <th></th>\n",
       "      <th>event_id</th>\n",
       "      <th>device_id</th>\n",
       "      <th>timestamp</th>\n",
       "      <th>longitude</th>\n",
       "      <th>latitude</th>\n",
       "      <th>app_id</th>\n",
       "    </tr>\n",
       "  </thead>\n",
       "  <tbody>\n",
       "    <tr>\n",
       "      <th>0</th>\n",
       "      <td>1</td>\n",
       "      <td>29182687948017175</td>\n",
       "      <td>2016-05-01 00:55:25</td>\n",
       "      <td>121.38</td>\n",
       "      <td>31.24</td>\n",
       "      <td>NaN</td>\n",
       "    </tr>\n",
       "    <tr>\n",
       "      <th>1</th>\n",
       "      <td>2</td>\n",
       "      <td>-6401643145415154744</td>\n",
       "      <td>2016-05-01 00:54:12</td>\n",
       "      <td>103.65</td>\n",
       "      <td>30.97</td>\n",
       "      <td>app_id:8693964245073640147 app_id:434865995276...</td>\n",
       "    </tr>\n",
       "    <tr>\n",
       "      <th>2</th>\n",
       "      <td>3</td>\n",
       "      <td>-4833982096941402721</td>\n",
       "      <td>2016-05-01 00:08:05</td>\n",
       "      <td>106.60</td>\n",
       "      <td>29.70</td>\n",
       "      <td>NaN</td>\n",
       "    </tr>\n",
       "    <tr>\n",
       "      <th>3</th>\n",
       "      <td>4</td>\n",
       "      <td>-6815121365017318426</td>\n",
       "      <td>2016-05-01 00:06:40</td>\n",
       "      <td>104.27</td>\n",
       "      <td>23.28</td>\n",
       "      <td>NaN</td>\n",
       "    </tr>\n",
       "    <tr>\n",
       "      <th>4</th>\n",
       "      <td>5</td>\n",
       "      <td>-5373797595892518570</td>\n",
       "      <td>2016-05-01 00:07:18</td>\n",
       "      <td>115.88</td>\n",
       "      <td>28.66</td>\n",
       "      <td>NaN</td>\n",
       "    </tr>\n",
       "  </tbody>\n",
       "</table>\n",
       "</div>"
      ],
      "text/plain": [
       "   event_id             device_id            timestamp  longitude  latitude  \\\n",
       "0         1     29182687948017175  2016-05-01 00:55:25     121.38     31.24   \n",
       "1         2  -6401643145415154744  2016-05-01 00:54:12     103.65     30.97   \n",
       "2         3  -4833982096941402721  2016-05-01 00:08:05     106.60     29.70   \n",
       "3         4  -6815121365017318426  2016-05-01 00:06:40     104.27     23.28   \n",
       "4         5  -5373797595892518570  2016-05-01 00:07:18     115.88     28.66   \n",
       "\n",
       "                                              app_id  \n",
       "0                                                NaN  \n",
       "1  app_id:8693964245073640147 app_id:434865995276...  \n",
       "2                                                NaN  \n",
       "3                                                NaN  \n",
       "4                                                NaN  "
      ]
     },
     "execution_count": 6,
     "metadata": {},
     "output_type": "execute_result"
    }
   ],
   "source": [
    "events.head()"
   ]
  },
  {
   "cell_type": "code",
   "execution_count": 7,
   "metadata": {
    "collapsed": true
   },
   "outputs": [],
   "source": [
    "events = events.dropna()"
   ]
  },
  {
   "cell_type": "code",
   "execution_count": 8,
   "metadata": {
    "collapsed": false
   },
   "outputs": [
    {
     "data": {
      "text/html": [
       "<div>\n",
       "<table border=\"1\" class=\"dataframe\">\n",
       "  <thead>\n",
       "    <tr style=\"text-align: right;\">\n",
       "      <th></th>\n",
       "      <th>event_id</th>\n",
       "      <th>device_id</th>\n",
       "      <th>timestamp</th>\n",
       "      <th>longitude</th>\n",
       "      <th>latitude</th>\n",
       "      <th>app_id</th>\n",
       "    </tr>\n",
       "  </thead>\n",
       "  <tbody>\n",
       "    <tr>\n",
       "      <th>1</th>\n",
       "      <td>2</td>\n",
       "      <td>-6401643145415154744</td>\n",
       "      <td>2016-05-01 00:54:12</td>\n",
       "      <td>103.65</td>\n",
       "      <td>30.97</td>\n",
       "      <td>app_id:8693964245073640147 app_id:434865995276...</td>\n",
       "    </tr>\n",
       "    <tr>\n",
       "      <th>5</th>\n",
       "      <td>6</td>\n",
       "      <td>1476664663289716375</td>\n",
       "      <td>2016-05-01 00:27:21</td>\n",
       "      <td>0.00</td>\n",
       "      <td>0.00</td>\n",
       "      <td>app_id:8693964245073640147 app_id:175704400052...</td>\n",
       "    </tr>\n",
       "    <tr>\n",
       "      <th>6</th>\n",
       "      <td>7</td>\n",
       "      <td>5990807147117726237</td>\n",
       "      <td>2016-05-01 00:15:13</td>\n",
       "      <td>113.73</td>\n",
       "      <td>23.00</td>\n",
       "      <td>app_id:8693964245073640147 app_id:-10140063694...</td>\n",
       "    </tr>\n",
       "    <tr>\n",
       "      <th>8</th>\n",
       "      <td>9</td>\n",
       "      <td>-2073340001552902943</td>\n",
       "      <td>2016-05-01 00:15:33</td>\n",
       "      <td>0.00</td>\n",
       "      <td>0.00</td>\n",
       "      <td>app_id:8693964245073640147 app_id:-51663306906...</td>\n",
       "    </tr>\n",
       "    <tr>\n",
       "      <th>15</th>\n",
       "      <td>16</td>\n",
       "      <td>9070651185984875886</td>\n",
       "      <td>2016-05-01 00:06:06</td>\n",
       "      <td>0.00</td>\n",
       "      <td>0.00</td>\n",
       "      <td>app_id:628020936226491308 app_id:-737700447902...</td>\n",
       "    </tr>\n",
       "  </tbody>\n",
       "</table>\n",
       "</div>"
      ],
      "text/plain": [
       "    event_id             device_id            timestamp  longitude  latitude  \\\n",
       "1          2  -6401643145415154744  2016-05-01 00:54:12     103.65     30.97   \n",
       "5          6   1476664663289716375  2016-05-01 00:27:21       0.00      0.00   \n",
       "6          7   5990807147117726237  2016-05-01 00:15:13     113.73     23.00   \n",
       "8          9  -2073340001552902943  2016-05-01 00:15:33       0.00      0.00   \n",
       "15        16   9070651185984875886  2016-05-01 00:06:06       0.00      0.00   \n",
       "\n",
       "                                               app_id  \n",
       "1   app_id:8693964245073640147 app_id:434865995276...  \n",
       "5   app_id:8693964245073640147 app_id:175704400052...  \n",
       "6   app_id:8693964245073640147 app_id:-10140063694...  \n",
       "8   app_id:8693964245073640147 app_id:-51663306906...  \n",
       "15  app_id:628020936226491308 app_id:-737700447902...  "
      ]
     },
     "execution_count": 8,
     "metadata": {},
     "output_type": "execute_result"
    }
   ],
   "source": [
    "events.head()"
   ]
  },
  {
   "cell_type": "code",
   "execution_count": 9,
   "metadata": {
    "collapsed": true
   },
   "outputs": [],
   "source": [
    "del app_ev"
   ]
  },
  {
   "cell_type": "code",
   "execution_count": 10,
   "metadata": {
    "collapsed": true
   },
   "outputs": [],
   "source": [
    "events = events[[\"device_id\", \"app_id\"]]"
   ]
  },
  {
   "cell_type": "code",
   "execution_count": 11,
   "metadata": {
    "collapsed": false
   },
   "outputs": [],
   "source": [
    "events = events.groupby(\"device_id\")[\"app_id\"].apply(\n",
    "    lambda x: \" \".join(set(str(\" \".join(str(s) for s in x)).split(\" \"))))\n",
    "events = events.reset_index(name=\"app_id\")"
   ]
  },
  {
   "cell_type": "code",
   "execution_count": 12,
   "metadata": {
    "collapsed": false,
    "scrolled": true
   },
   "outputs": [
    {
     "data": {
      "text/html": [
       "<div>\n",
       "<table border=\"1\" class=\"dataframe\">\n",
       "  <thead>\n",
       "    <tr style=\"text-align: right;\">\n",
       "      <th></th>\n",
       "      <th>device_id</th>\n",
       "      <th>app_id</th>\n",
       "    </tr>\n",
       "  </thead>\n",
       "  <tbody>\n",
       "    <tr>\n",
       "      <th>0</th>\n",
       "      <td>-1084174363886138500</td>\n",
       "      <td>app_id:8693964245073640147 app_id:-32034847784...</td>\n",
       "    </tr>\n",
       "    <tr>\n",
       "      <th>1</th>\n",
       "      <td>-1153910750523975031</td>\n",
       "      <td>app_id:8693964245073640147 app_id:628020936226...</td>\n",
       "    </tr>\n",
       "    <tr>\n",
       "      <th>2</th>\n",
       "      <td>-1340161279060514090</td>\n",
       "      <td>app_id:7971327257373737575 app_id:874818657222...</td>\n",
       "    </tr>\n",
       "    <tr>\n",
       "      <th>3</th>\n",
       "      <td>-1558314595648377026</td>\n",
       "      <td>app_id:8693964245073640147 app_id:-51663306906...</td>\n",
       "    </tr>\n",
       "    <tr>\n",
       "      <th>4</th>\n",
       "      <td>-1593861387409811850</td>\n",
       "      <td>app_id:8693964245073640147 app_id:893729596138...</td>\n",
       "    </tr>\n",
       "  </tbody>\n",
       "</table>\n",
       "</div>"
      ],
      "text/plain": [
       "              device_id                                             app_id\n",
       "0  -1084174363886138500  app_id:8693964245073640147 app_id:-32034847784...\n",
       "1  -1153910750523975031  app_id:8693964245073640147 app_id:628020936226...\n",
       "2  -1340161279060514090  app_id:7971327257373737575 app_id:874818657222...\n",
       "3  -1558314595648377026  app_id:8693964245073640147 app_id:-51663306906...\n",
       "4  -1593861387409811850  app_id:8693964245073640147 app_id:893729596138..."
      ]
     },
     "execution_count": 12,
     "metadata": {},
     "output_type": "execute_result"
    }
   ],
   "source": [
    "events.head()"
   ]
  },
  {
   "cell_type": "code",
   "execution_count": 15,
   "metadata": {
    "collapsed": false
   },
   "outputs": [],
   "source": [
    "events = pd.concat([pd.Series(row['device_id'], row['app_id'].split(' '))\n",
    "                    for _, row in events.iterrows()]).reset_index()\n",
    "events.columns = ['app_id', 'device_id']"
   ]
  },
  {
   "cell_type": "code",
   "execution_count": 16,
   "metadata": {
    "collapsed": false
   },
   "outputs": [
    {
     "data": {
      "text/html": [
       "<div>\n",
       "<table border=\"1\" class=\"dataframe\">\n",
       "  <thead>\n",
       "    <tr style=\"text-align: right;\">\n",
       "      <th></th>\n",
       "      <th>app_id</th>\n",
       "      <th>device_id</th>\n",
       "    </tr>\n",
       "  </thead>\n",
       "  <tbody>\n",
       "    <tr>\n",
       "      <th>0</th>\n",
       "      <td>app_id:8693964245073640147</td>\n",
       "      <td>-1084174363886138500</td>\n",
       "    </tr>\n",
       "    <tr>\n",
       "      <th>1</th>\n",
       "      <td>app_id:-3203484778499260135</td>\n",
       "      <td>-1084174363886138500</td>\n",
       "    </tr>\n",
       "    <tr>\n",
       "      <th>2</th>\n",
       "      <td>app_id:7971327257373737575</td>\n",
       "      <td>-1084174363886138500</td>\n",
       "    </tr>\n",
       "    <tr>\n",
       "      <th>3</th>\n",
       "      <td>app_id:3364032031731117644</td>\n",
       "      <td>-1084174363886138500</td>\n",
       "    </tr>\n",
       "    <tr>\n",
       "      <th>4</th>\n",
       "      <td>app_id:-7377004479023402858</td>\n",
       "      <td>-1084174363886138500</td>\n",
       "    </tr>\n",
       "  </tbody>\n",
       "</table>\n",
       "</div>"
      ],
      "text/plain": [
       "                        app_id             device_id\n",
       "0   app_id:8693964245073640147  -1084174363886138500\n",
       "1  app_id:-3203484778499260135  -1084174363886138500\n",
       "2   app_id:7971327257373737575  -1084174363886138500\n",
       "3   app_id:3364032031731117644  -1084174363886138500\n",
       "4  app_id:-7377004479023402858  -1084174363886138500"
      ]
     },
     "execution_count": 16,
     "metadata": {},
     "output_type": "execute_result"
    }
   ],
   "source": [
    "events.head()"
   ]
  },
  {
   "cell_type": "code",
   "execution_count": 17,
   "metadata": {
    "collapsed": false
   },
   "outputs": [],
   "source": [
    "pbd = pd.read_csv(\"./input/phone_brand_device_model.csv\",\n",
    "                  dtype={'device_id': np.str})\n",
    "pbd.drop_duplicates('device_id', keep='first', inplace=True)"
   ]
  },
  {
   "cell_type": "code",
   "execution_count": 18,
   "metadata": {
    "collapsed": false
   },
   "outputs": [
    {
     "data": {
      "text/html": [
       "<div>\n",
       "<table border=\"1\" class=\"dataframe\">\n",
       "  <thead>\n",
       "    <tr style=\"text-align: right;\">\n",
       "      <th></th>\n",
       "      <th>device_id</th>\n",
       "      <th>phone_brand</th>\n",
       "      <th>device_model</th>\n",
       "    </tr>\n",
       "  </thead>\n",
       "  <tbody>\n",
       "    <tr>\n",
       "      <th>0</th>\n",
       "      <td>-8890648629457979026</td>\n",
       "      <td>小米</td>\n",
       "      <td>红米</td>\n",
       "    </tr>\n",
       "    <tr>\n",
       "      <th>1</th>\n",
       "      <td>1277779817574759137</td>\n",
       "      <td>小米</td>\n",
       "      <td>MI 2</td>\n",
       "    </tr>\n",
       "    <tr>\n",
       "      <th>2</th>\n",
       "      <td>5137427614288105724</td>\n",
       "      <td>三星</td>\n",
       "      <td>Galaxy S4</td>\n",
       "    </tr>\n",
       "    <tr>\n",
       "      <th>3</th>\n",
       "      <td>3669464369358936369</td>\n",
       "      <td>SUGAR</td>\n",
       "      <td>时尚手机</td>\n",
       "    </tr>\n",
       "    <tr>\n",
       "      <th>4</th>\n",
       "      <td>-5019277647504317457</td>\n",
       "      <td>三星</td>\n",
       "      <td>Galaxy Note 2</td>\n",
       "    </tr>\n",
       "  </tbody>\n",
       "</table>\n",
       "</div>"
      ],
      "text/plain": [
       "              device_id phone_brand   device_model\n",
       "0  -8890648629457979026          小米             红米\n",
       "1   1277779817574759137          小米           MI 2\n",
       "2   5137427614288105724          三星      Galaxy S4\n",
       "3   3669464369358936369       SUGAR           时尚手机\n",
       "4  -5019277647504317457          三星  Galaxy Note 2"
      ]
     },
     "execution_count": 18,
     "metadata": {},
     "output_type": "execute_result"
    }
   ],
   "source": [
    "pbd.head()"
   ]
  },
  {
   "cell_type": "code",
   "execution_count": 20,
   "metadata": {
    "collapsed": false
   },
   "outputs": [],
   "source": [
    "train = pd.read_csv(\"./input/gender_age_train.csv\",\n",
    "                    dtype={'device_id': np.str})\n",
    "train.drop([\"age\", \"gender\"], axis=1, inplace=True)"
   ]
  },
  {
   "cell_type": "code",
   "execution_count": 21,
   "metadata": {
    "collapsed": false
   },
   "outputs": [
    {
     "data": {
      "text/html": [
       "<div>\n",
       "<table border=\"1\" class=\"dataframe\">\n",
       "  <thead>\n",
       "    <tr style=\"text-align: right;\">\n",
       "      <th></th>\n",
       "      <th>device_id</th>\n",
       "      <th>group</th>\n",
       "    </tr>\n",
       "  </thead>\n",
       "  <tbody>\n",
       "    <tr>\n",
       "      <th>0</th>\n",
       "      <td>-8076087639492063270</td>\n",
       "      <td>M32-38</td>\n",
       "    </tr>\n",
       "    <tr>\n",
       "      <th>1</th>\n",
       "      <td>-2897161552818060146</td>\n",
       "      <td>M32-38</td>\n",
       "    </tr>\n",
       "    <tr>\n",
       "      <th>2</th>\n",
       "      <td>-8260683887967679142</td>\n",
       "      <td>M32-38</td>\n",
       "    </tr>\n",
       "    <tr>\n",
       "      <th>3</th>\n",
       "      <td>-4938849341048082022</td>\n",
       "      <td>M29-31</td>\n",
       "    </tr>\n",
       "    <tr>\n",
       "      <th>4</th>\n",
       "      <td>245133531816851882</td>\n",
       "      <td>M29-31</td>\n",
       "    </tr>\n",
       "  </tbody>\n",
       "</table>\n",
       "</div>"
      ],
      "text/plain": [
       "              device_id   group\n",
       "0  -8076087639492063270  M32-38\n",
       "1  -2897161552818060146  M32-38\n",
       "2  -8260683887967679142  M32-38\n",
       "3  -4938849341048082022  M29-31\n",
       "4    245133531816851882  M29-31"
      ]
     },
     "execution_count": 21,
     "metadata": {},
     "output_type": "execute_result"
    }
   ],
   "source": [
    "train.head()"
   ]
  },
  {
   "cell_type": "code",
   "execution_count": 22,
   "metadata": {
    "collapsed": false
   },
   "outputs": [
    {
     "data": {
      "text/html": [
       "<div>\n",
       "<table border=\"1\" class=\"dataframe\">\n",
       "  <thead>\n",
       "    <tr style=\"text-align: right;\">\n",
       "      <th></th>\n",
       "      <th>device_id</th>\n",
       "      <th>group</th>\n",
       "    </tr>\n",
       "  </thead>\n",
       "  <tbody>\n",
       "    <tr>\n",
       "      <th>0</th>\n",
       "      <td>1002079943728939269</td>\n",
       "      <td>NaN</td>\n",
       "    </tr>\n",
       "    <tr>\n",
       "      <th>1</th>\n",
       "      <td>-1547860181818787117</td>\n",
       "      <td>NaN</td>\n",
       "    </tr>\n",
       "    <tr>\n",
       "      <th>2</th>\n",
       "      <td>7374582448058474277</td>\n",
       "      <td>NaN</td>\n",
       "    </tr>\n",
       "    <tr>\n",
       "      <th>3</th>\n",
       "      <td>-6220210354783429585</td>\n",
       "      <td>NaN</td>\n",
       "    </tr>\n",
       "    <tr>\n",
       "      <th>4</th>\n",
       "      <td>-5893464122623104785</td>\n",
       "      <td>NaN</td>\n",
       "    </tr>\n",
       "  </tbody>\n",
       "</table>\n",
       "</div>"
      ],
      "text/plain": [
       "              device_id  group\n",
       "0   1002079943728939269    NaN\n",
       "1  -1547860181818787117    NaN\n",
       "2   7374582448058474277    NaN\n",
       "3  -6220210354783429585    NaN\n",
       "4  -5893464122623104785    NaN"
      ]
     },
     "execution_count": 22,
     "metadata": {},
     "output_type": "execute_result"
    }
   ],
   "source": [
    "test = pd.read_csv(\"./input/gender_age_test.csv\",\n",
    "                   dtype={'device_id': np.str})\n",
    "test[\"group\"] = np.nan\n",
    "test.head()"
   ]
  },
  {
   "cell_type": "code",
   "execution_count": 23,
   "metadata": {
    "collapsed": true
   },
   "outputs": [],
   "source": [
    "split_len = len(train)"
   ]
  },
  {
   "cell_type": "code",
   "execution_count": 24,
   "metadata": {
    "collapsed": true
   },
   "outputs": [],
   "source": [
    "# Group Labels\n",
    "Y = train[\"group\"]\n",
    "lable_group = LabelEncoder()\n",
    "Y = lable_group.fit_transform(Y)\n",
    "device_id = test[\"device_id\"]"
   ]
  },
  {
   "cell_type": "code",
   "execution_count": 25,
   "metadata": {
    "collapsed": false
   },
   "outputs": [],
   "source": [
    "Df = pd.concat((train, test), axis=0, ignore_index=True)"
   ]
  },
  {
   "cell_type": "code",
   "execution_count": 26,
   "metadata": {
    "collapsed": false
   },
   "outputs": [
    {
     "data": {
      "text/html": [
       "<div>\n",
       "<table border=\"1\" class=\"dataframe\">\n",
       "  <thead>\n",
       "    <tr style=\"text-align: right;\">\n",
       "      <th></th>\n",
       "      <th>device_id</th>\n",
       "      <th>group</th>\n",
       "    </tr>\n",
       "  </thead>\n",
       "  <tbody>\n",
       "    <tr>\n",
       "      <th>0</th>\n",
       "      <td>-8076087639492063270</td>\n",
       "      <td>M32-38</td>\n",
       "    </tr>\n",
       "    <tr>\n",
       "      <th>1</th>\n",
       "      <td>-2897161552818060146</td>\n",
       "      <td>M32-38</td>\n",
       "    </tr>\n",
       "    <tr>\n",
       "      <th>2</th>\n",
       "      <td>-8260683887967679142</td>\n",
       "      <td>M32-38</td>\n",
       "    </tr>\n",
       "    <tr>\n",
       "      <th>3</th>\n",
       "      <td>-4938849341048082022</td>\n",
       "      <td>M29-31</td>\n",
       "    </tr>\n",
       "    <tr>\n",
       "      <th>4</th>\n",
       "      <td>245133531816851882</td>\n",
       "      <td>M29-31</td>\n",
       "    </tr>\n",
       "  </tbody>\n",
       "</table>\n",
       "</div>"
      ],
      "text/plain": [
       "              device_id   group\n",
       "0  -8076087639492063270  M32-38\n",
       "1  -2897161552818060146  M32-38\n",
       "2  -8260683887967679142  M32-38\n",
       "3  -4938849341048082022  M29-31\n",
       "4    245133531816851882  M29-31"
      ]
     },
     "execution_count": 26,
     "metadata": {},
     "output_type": "execute_result"
    }
   ],
   "source": [
    "Df.head()"
   ]
  },
  {
   "cell_type": "code",
   "execution_count": 27,
   "metadata": {
    "collapsed": true
   },
   "outputs": [],
   "source": [
    "Df = pd.merge(Df, pbd, how=\"left\", on=\"device_id\")\n",
    "Df[\"phone_brand\"] = Df[\"phone_brand\"].apply(lambda x: \"phone_brand:\" + str(x))\n",
    "Df[\"device_model\"] = Df[\"device_model\"].apply(\n",
    "    lambda x: \"device_model:\" + str(x))"
   ]
  },
  {
   "cell_type": "code",
   "execution_count": 29,
   "metadata": {
    "collapsed": false
   },
   "outputs": [
    {
     "data": {
      "text/html": [
       "<div>\n",
       "<table border=\"1\" class=\"dataframe\">\n",
       "  <thead>\n",
       "    <tr style=\"text-align: right;\">\n",
       "      <th></th>\n",
       "      <th>device_id</th>\n",
       "      <th>group</th>\n",
       "      <th>phone_brand</th>\n",
       "      <th>device_model</th>\n",
       "    </tr>\n",
       "  </thead>\n",
       "  <tbody>\n",
       "    <tr>\n",
       "      <th>0</th>\n",
       "      <td>-8076087639492063270</td>\n",
       "      <td>M32-38</td>\n",
       "      <td>phone_brand:小米</td>\n",
       "      <td>device_model:MI 2</td>\n",
       "    </tr>\n",
       "    <tr>\n",
       "      <th>1</th>\n",
       "      <td>-2897161552818060146</td>\n",
       "      <td>M32-38</td>\n",
       "      <td>phone_brand:小米</td>\n",
       "      <td>device_model:MI 2</td>\n",
       "    </tr>\n",
       "    <tr>\n",
       "      <th>2</th>\n",
       "      <td>-8260683887967679142</td>\n",
       "      <td>M32-38</td>\n",
       "      <td>phone_brand:小米</td>\n",
       "      <td>device_model:MI 2</td>\n",
       "    </tr>\n",
       "    <tr>\n",
       "      <th>3</th>\n",
       "      <td>-4938849341048082022</td>\n",
       "      <td>M29-31</td>\n",
       "      <td>phone_brand:小米</td>\n",
       "      <td>device_model:红米note</td>\n",
       "    </tr>\n",
       "    <tr>\n",
       "      <th>4</th>\n",
       "      <td>245133531816851882</td>\n",
       "      <td>M29-31</td>\n",
       "      <td>phone_brand:小米</td>\n",
       "      <td>device_model:MI 3</td>\n",
       "    </tr>\n",
       "  </tbody>\n",
       "</table>\n",
       "</div>"
      ],
      "text/plain": [
       "              device_id   group     phone_brand         device_model\n",
       "0  -8076087639492063270  M32-38  phone_brand:小米    device_model:MI 2\n",
       "1  -2897161552818060146  M32-38  phone_brand:小米    device_model:MI 2\n",
       "2  -8260683887967679142  M32-38  phone_brand:小米    device_model:MI 2\n",
       "3  -4938849341048082022  M29-31  phone_brand:小米  device_model:红米note\n",
       "4    245133531816851882  M29-31  phone_brand:小米    device_model:MI 3"
      ]
     },
     "execution_count": 29,
     "metadata": {},
     "output_type": "execute_result"
    }
   ],
   "source": [
    "Df.head()"
   ]
  },
  {
   "cell_type": "code",
   "execution_count": 31,
   "metadata": {
    "collapsed": true
   },
   "outputs": [],
   "source": [
    "f1 = Df[[\"device_id\", \"phone_brand\"]]   # phone_brand\n",
    "f2 = Df[[\"device_id\", \"device_model\"]]  # device_model\n",
    "f3 = events[[\"device_id\", \"app_id\"]]    # app_id"
   ]
  },
  {
   "cell_type": "code",
   "execution_count": 32,
   "metadata": {
    "collapsed": false
   },
   "outputs": [],
   "source": [
    "del Df"
   ]
  },
  {
   "cell_type": "code",
   "execution_count": 33,
   "metadata": {
    "collapsed": false
   },
   "outputs": [],
   "source": [
    "\n",
    "f1.columns.values[1] = \"feature\"\n",
    "f2.columns.values[1] = \"feature\"\n",
    "f3.columns.values[1] = \"feature\"\n",
    "\n",
    "FLS = pd.concat((f1, f2, f3), axis=0, ignore_index=True)"
   ]
  },
  {
   "cell_type": "code",
   "execution_count": 34,
   "metadata": {
    "collapsed": false
   },
   "outputs": [
    {
     "data": {
      "text/html": [
       "<div>\n",
       "<table border=\"1\" class=\"dataframe\">\n",
       "  <thead>\n",
       "    <tr style=\"text-align: right;\">\n",
       "      <th></th>\n",
       "      <th>device_id</th>\n",
       "      <th>feature</th>\n",
       "    </tr>\n",
       "  </thead>\n",
       "  <tbody>\n",
       "    <tr>\n",
       "      <th>290303</th>\n",
       "      <td>1478289665726762368</td>\n",
       "      <td>device_model:Galaxy S3</td>\n",
       "    </tr>\n",
       "    <tr>\n",
       "      <th>183449</th>\n",
       "      <td>-1740163140345439817</td>\n",
       "      <td>phone_brand:华为</td>\n",
       "    </tr>\n",
       "    <tr>\n",
       "      <th>27898</th>\n",
       "      <td>3357290046875428650</td>\n",
       "      <td>phone_brand:OPPO</td>\n",
       "    </tr>\n",
       "    <tr>\n",
       "      <th>252040</th>\n",
       "      <td>8534949981820422389</td>\n",
       "      <td>device_model:Galaxy S3</td>\n",
       "    </tr>\n",
       "    <tr>\n",
       "      <th>144834</th>\n",
       "      <td>7194221327598975046</td>\n",
       "      <td>phone_brand:三星</td>\n",
       "    </tr>\n",
       "    <tr>\n",
       "      <th>339883</th>\n",
       "      <td>8703457607761181981</td>\n",
       "      <td>device_model:大神X7</td>\n",
       "    </tr>\n",
       "    <tr>\n",
       "      <th>365041</th>\n",
       "      <td>-4552617722880659442</td>\n",
       "      <td>device_model:全魔王手机</td>\n",
       "    </tr>\n",
       "    <tr>\n",
       "      <th>325868</th>\n",
       "      <td>-5478550138250468036</td>\n",
       "      <td>device_model:Ascend P7</td>\n",
       "    </tr>\n",
       "    <tr>\n",
       "      <th>249639</th>\n",
       "      <td>-2587207702144661161</td>\n",
       "      <td>device_model:Galaxy Note 3</td>\n",
       "    </tr>\n",
       "    <tr>\n",
       "      <th>89730</th>\n",
       "      <td>8414830126196442859</td>\n",
       "      <td>phone_brand:小米</td>\n",
       "    </tr>\n",
       "  </tbody>\n",
       "</table>\n",
       "</div>"
      ],
      "text/plain": [
       "                   device_id                     feature\n",
       "290303   1478289665726762368      device_model:Galaxy S3\n",
       "183449  -1740163140345439817              phone_brand:华为\n",
       "27898    3357290046875428650            phone_brand:OPPO\n",
       "252040   8534949981820422389      device_model:Galaxy S3\n",
       "144834   7194221327598975046              phone_brand:三星\n",
       "339883   8703457607761181981           device_model:大神X7\n",
       "365041  -4552617722880659442          device_model:全魔王手机\n",
       "325868  -5478550138250468036      device_model:Ascend P7\n",
       "249639  -2587207702144661161  device_model:Galaxy Note 3\n",
       "89730    8414830126196442859              phone_brand:小米"
      ]
     },
     "execution_count": 34,
     "metadata": {},
     "output_type": "execute_result"
    }
   ],
   "source": [
    "FLS.sample(10)"
   ]
  },
  {
   "cell_type": "code",
   "execution_count": 35,
   "metadata": {
    "collapsed": false
   },
   "outputs": [],
   "source": [
    "device_ids = FLS[\"device_id\"].unique()\n",
    "feature_cs = FLS[\"feature\"].unique()"
   ]
  },
  {
   "cell_type": "code",
   "execution_count": 36,
   "metadata": {
    "collapsed": false
   },
   "outputs": [],
   "source": [
    "data = np.ones(len(FLS))\n",
    "dec = LabelEncoder().fit(FLS[\"device_id\"])\n",
    "row = dec.transform(FLS[\"device_id\"])\n",
    "col = LabelEncoder().fit_transform(FLS[\"feature\"])\n",
    "sparse_matrix = sparse.csr_matrix(\n",
    "    (data, (row, col)), shape=(len(device_ids), len(feature_cs)))\n",
    "\n",
    "sparse_matrix = sparse_matrix[:, sparse_matrix.getnnz(0) > 0]"
   ]
  },
  {
   "cell_type": "code",
   "execution_count": 40,
   "metadata": {
    "collapsed": false
   },
   "outputs": [
    {
     "data": {
      "text/plain": [
       "array([    1,     1,     1, ..., 11816,     3,    86])"
      ]
     },
     "execution_count": 40,
     "metadata": {},
     "output_type": "execute_result"
    }
   ],
   "source": [
    "sparse_matrix.getnnz(0)"
   ]
  },
  {
   "cell_type": "code",
   "execution_count": 41,
   "metadata": {
    "collapsed": false
   },
   "outputs": [],
   "source": [
    "train_row = dec.transform(train[\"device_id\"])\n",
    "train_sp = sparse_matrix[train_row, :]\n",
    "\n",
    "test_row = dec.transform(test[\"device_id\"])\n",
    "test_sp = sparse_matrix[test_row, :]\n",
    "\n",
    "X_train, X_val, y_train, y_val = train_test_split(\n",
    "    train_sp, Y, train_size=.90, random_state=10)"
   ]
  },
  {
   "cell_type": "code",
   "execution_count": 40,
   "metadata": {
    "collapsed": false
   },
   "outputs": [
    {
     "data": {
      "text/plain": [
       "array([ True,  True,  True, ...,  True,  True,  True], dtype=bool)"
      ]
     },
     "execution_count": 40,
     "metadata": {},
     "output_type": "execute_result"
    }
   ],
   "source": [
    "sparse_matrix.getnnz(0) >0"
   ]
  },
  {
   "cell_type": "code",
   "execution_count": 43,
   "metadata": {
    "collapsed": false
   },
   "outputs": [
    {
     "name": "stderr",
     "output_type": "stream",
     "text": [
      "/usr/local/lib/python2.7/site-packages/sklearn/feature_selection/univariate_selection.py:113: UserWarning: Features [0 0 0 ..., 0 0 0] are constant.\n",
      "  UserWarning)\n"
     ]
    }
   ],
   "source": [
    "selector = SelectPercentile(f_classif, percentile=23)\n",
    "\n",
    "selector.fit(X_train, y_train)\n",
    "\n",
    "X_train = selector.transform(X_train)\n",
    "X_val = selector.transform(X_val)\n",
    "\n",
    "train_sp = selector.transform(train_sp)\n",
    "test_sp = selector.transform(test_sp)"
   ]
  },
  {
   "cell_type": "code",
   "execution_count": 44,
   "metadata": {
    "collapsed": false
   },
   "outputs": [
    {
     "data": {
      "text/plain": [
       "863"
      ]
     },
     "execution_count": 44,
     "metadata": {},
     "output_type": "execute_result"
    }
   ],
   "source": [
    "# number of features\n",
    "X_train.shape[1]"
   ]
  },
  {
   "cell_type": "code",
   "execution_count": 46,
   "metadata": {
    "collapsed": false
   },
   "outputs": [],
   "source": [
    "dtrain = xgb.DMatrix(X_train, y_train)\n",
    "dvalid = xgb.DMatrix(X_val, y_val)"
   ]
  },
  {
   "cell_type": "code",
   "execution_count": 47,
   "metadata": {
    "collapsed": false
   },
   "outputs": [
    {
     "name": "stderr",
     "output_type": "stream",
     "text": [
      "Will train until eval error hasn't decreased in 25 rounds.\n",
      "[0]\ttrain-mlogloss:2.468892\teval-mlogloss:2.470665\n",
      "[1]\ttrain-mlogloss:2.455580\teval-mlogloss:2.459051\n",
      "[2]\ttrain-mlogloss:2.444629\teval-mlogloss:2.449542\n",
      "[3]\ttrain-mlogloss:2.435433\teval-mlogloss:2.441700\n",
      "[4]\ttrain-mlogloss:2.427757\teval-mlogloss:2.435194\n",
      "[5]\ttrain-mlogloss:2.421130\teval-mlogloss:2.429784\n",
      "[6]\ttrain-mlogloss:2.415604\teval-mlogloss:2.425247\n",
      "[7]\ttrain-mlogloss:2.410758\teval-mlogloss:2.421452\n",
      "[8]\ttrain-mlogloss:2.406650\teval-mlogloss:2.418265\n",
      "[9]\ttrain-mlogloss:2.403081\teval-mlogloss:2.415569\n",
      "[10]\ttrain-mlogloss:2.400021\teval-mlogloss:2.413291\n",
      "[11]\ttrain-mlogloss:2.397284\teval-mlogloss:2.411361\n",
      "[12]\ttrain-mlogloss:2.394866\teval-mlogloss:2.409735\n",
      "[13]\ttrain-mlogloss:2.392821\teval-mlogloss:2.408338\n",
      "[14]\ttrain-mlogloss:2.391006\teval-mlogloss:2.407150\n",
      "[15]\ttrain-mlogloss:2.389378\teval-mlogloss:2.406129\n",
      "[16]\ttrain-mlogloss:2.387954\teval-mlogloss:2.405275\n",
      "[17]\ttrain-mlogloss:2.386594\teval-mlogloss:2.404524\n",
      "[18]\ttrain-mlogloss:2.385462\teval-mlogloss:2.403875\n",
      "[19]\ttrain-mlogloss:2.384424\teval-mlogloss:2.403342\n",
      "[20]\ttrain-mlogloss:2.383460\teval-mlogloss:2.402871\n",
      "[21]\ttrain-mlogloss:2.382685\teval-mlogloss:2.402453\n",
      "[22]\ttrain-mlogloss:2.381912\teval-mlogloss:2.402119\n",
      "[23]\ttrain-mlogloss:2.381183\teval-mlogloss:2.401805\n",
      "[24]\ttrain-mlogloss:2.380444\teval-mlogloss:2.401554\n",
      "[25]\ttrain-mlogloss:2.379882\teval-mlogloss:2.401326\n",
      "[26]\ttrain-mlogloss:2.379406\teval-mlogloss:2.401125\n",
      "[27]\ttrain-mlogloss:2.378882\teval-mlogloss:2.400965\n",
      "[28]\ttrain-mlogloss:2.378408\teval-mlogloss:2.400819\n",
      "[29]\ttrain-mlogloss:2.377993\teval-mlogloss:2.400685\n",
      "[30]\ttrain-mlogloss:2.377531\teval-mlogloss:2.400596\n",
      "[31]\ttrain-mlogloss:2.377223\teval-mlogloss:2.400485\n",
      "[32]\ttrain-mlogloss:2.376855\teval-mlogloss:2.400416\n",
      "[33]\ttrain-mlogloss:2.376573\teval-mlogloss:2.400345\n",
      "[34]\ttrain-mlogloss:2.376235\teval-mlogloss:2.400290\n",
      "[35]\ttrain-mlogloss:2.375972\teval-mlogloss:2.400239\n",
      "[36]\ttrain-mlogloss:2.375663\teval-mlogloss:2.400200\n",
      "[37]\ttrain-mlogloss:2.375523\teval-mlogloss:2.400162\n",
      "[38]\ttrain-mlogloss:2.375300\teval-mlogloss:2.400128\n",
      "[39]\ttrain-mlogloss:2.375106\teval-mlogloss:2.400104\n"
     ]
    }
   ],
   "source": [
    "params = {\n",
    "    \"objective\": \"multi:softprob\",\n",
    "    \"num_class\": 12,\n",
    "    \"booster\": \"gblinear\",\n",
    "    \"max_depth\": 6,\n",
    "    \"eval_metric\": \"mlogloss\",\n",
    "    \"eta\": 0.07,\n",
    "    \"silent\": 1,\n",
    "    \"alpha\": 3,\n",
    "}\n",
    "\n",
    "watchlist = [(dtrain, 'train'), (dvalid, 'eval')]\n",
    "gbm = xgb.train(params, dtrain, 40, evals=watchlist,\n",
    "                early_stopping_rounds=25, verbose_eval=True)"
   ]
  },
  {
   "cell_type": "code",
   "execution_count": 48,
   "metadata": {
    "collapsed": true
   },
   "outputs": [],
   "source": [
    "dtrain = xgb.DMatrix(train_sp, Y)\n",
    "gbm = xgb.train(params, dtrain, 40, verbose_eval=True)\n",
    "y_pre = gbm.predict(xgb.DMatrix(test_sp))"
   ]
  },
  {
   "cell_type": "code",
   "execution_count": 49,
   "metadata": {
    "collapsed": true
   },
   "outputs": [],
   "source": [
    "result = pd.DataFrame(y_pre, columns=lable_group.classes_)\n",
    "result[\"device_id\"] = device_id\n",
    "result = result.set_index(\"device_id\")\n",
    "result.to_csv('fine_tune.gz', index=True,\n",
    "              index_label='device_id', compression=\"gzip\")"
   ]
  },
  {
   "cell_type": "code",
   "execution_count": null,
   "metadata": {
    "collapsed": true
   },
   "outputs": [],
   "source": []
  }
 ],
 "metadata": {
  "kernelspec": {
   "display_name": "Python 2",
   "language": "python",
   "name": "python2"
  },
  "language_info": {
   "codemirror_mode": {
    "name": "ipython",
    "version": 2
   },
   "file_extension": ".py",
   "mimetype": "text/x-python",
   "name": "python",
   "nbconvert_exporter": "python",
   "pygments_lexer": "ipython2",
   "version": "2.7.11"
  }
 },
 "nbformat": 4,
 "nbformat_minor": 0
}
